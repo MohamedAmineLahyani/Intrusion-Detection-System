{
 "cells": [
  {
   "cell_type": "markdown",
   "id": "40af0a90",
   "metadata": {},
   "source": [
    "<h1 align=\"center\">  Intrusion Detection System </h1>  \n",
    "<h6 align=\"right\" > Mohamed Amine Lahyani </h6>\n",
    "</br>"
   ]
  },
  {
   "cell_type": "code",
   "execution_count": 114,
   "id": "5610b35f",
   "metadata": {},
   "outputs": [],
   "source": [
    "import pandas as pd\n",
    "import numpy as np\n",
    "import seaborn as sns\n",
    "import matplotlib.pyplot as plt\n",
    "from sklearn.model_selection import train_test_split\n",
    "from sklearn.metrics import classification_report, confusion_matrix, accuracy_score, precision_score, recall_score, f1_score\n",
    "from statistics import mode\n",
    "import warnings \n",
    "warnings.filterwarnings(\"ignore\")"
   ]
  },
  {
   "cell_type": "markdown",
   "id": "aeb1105c",
   "metadata": {},
   "source": [
    "#### 1.Open the CICIDS2017_sample.CSV"
   ]
  },
  {
   "cell_type": "code",
   "execution_count": 21,
   "id": "891e9834",
   "metadata": {},
   "outputs": [
    {
     "name": "stdout",
     "output_type": "stream",
     "text": [
      "(26800, 78)\n"
     ]
    }
   ],
   "source": [
    "df = pd.read_csv(\"CICIDS2017_sample_km.csv\")\n",
    "print(df.shape)"
   ]
  },
  {
   "cell_type": "code",
   "execution_count": 20,
   "id": "bfb75ed5",
   "metadata": {
    "scrolled": true
   },
   "outputs": [
    {
     "data": {
      "text/html": [
       "<div>\n",
       "<style scoped>\n",
       "    .dataframe tbody tr th:only-of-type {\n",
       "        vertical-align: middle;\n",
       "    }\n",
       "\n",
       "    .dataframe tbody tr th {\n",
       "        vertical-align: top;\n",
       "    }\n",
       "\n",
       "    .dataframe thead th {\n",
       "        text-align: right;\n",
       "    }\n",
       "</style>\n",
       "<table border=\"1\" class=\"dataframe\">\n",
       "  <thead>\n",
       "    <tr style=\"text-align: right;\">\n",
       "      <th></th>\n",
       "      <th>Flow Duration</th>\n",
       "      <th>Total Fwd Packets</th>\n",
       "      <th>Total Backward Packets</th>\n",
       "      <th>Total Length of Fwd Packets</th>\n",
       "      <th>Total Length of Bwd Packets</th>\n",
       "      <th>Fwd Packet Length Max</th>\n",
       "      <th>Fwd Packet Length Min</th>\n",
       "      <th>Fwd Packet Length Mean</th>\n",
       "      <th>Fwd Packet Length Std</th>\n",
       "      <th>Bwd Packet Length Max</th>\n",
       "      <th>...</th>\n",
       "      <th>min_seg_size_forward</th>\n",
       "      <th>Active Mean</th>\n",
       "      <th>Active Std</th>\n",
       "      <th>Active Max</th>\n",
       "      <th>Active Min</th>\n",
       "      <th>Idle Mean</th>\n",
       "      <th>Idle Std</th>\n",
       "      <th>Idle Max</th>\n",
       "      <th>Idle Min</th>\n",
       "      <th>Label</th>\n",
       "    </tr>\n",
       "  </thead>\n",
       "  <tbody>\n",
       "    <tr>\n",
       "      <th>0</th>\n",
       "      <td>5.416666e-07</td>\n",
       "      <td>0.0</td>\n",
       "      <td>0.000003</td>\n",
       "      <td>4.651163e-07</td>\n",
       "      <td>9.153974e-09</td>\n",
       "      <td>0.000242</td>\n",
       "      <td>0.002581</td>\n",
       "      <td>0.00101</td>\n",
       "      <td>0.0</td>\n",
       "      <td>0.000307</td>\n",
       "      <td>...</td>\n",
       "      <td>1.0</td>\n",
       "      <td>0.0</td>\n",
       "      <td>0.0</td>\n",
       "      <td>0.0</td>\n",
       "      <td>0.0</td>\n",
       "      <td>0.0</td>\n",
       "      <td>0.0</td>\n",
       "      <td>0.0</td>\n",
       "      <td>0.0</td>\n",
       "      <td>0</td>\n",
       "    </tr>\n",
       "    <tr>\n",
       "      <th>1</th>\n",
       "      <td>5.416666e-07</td>\n",
       "      <td>0.0</td>\n",
       "      <td>0.000003</td>\n",
       "      <td>4.651163e-07</td>\n",
       "      <td>9.153974e-09</td>\n",
       "      <td>0.000242</td>\n",
       "      <td>0.002581</td>\n",
       "      <td>0.00101</td>\n",
       "      <td>0.0</td>\n",
       "      <td>0.000307</td>\n",
       "      <td>...</td>\n",
       "      <td>1.0</td>\n",
       "      <td>0.0</td>\n",
       "      <td>0.0</td>\n",
       "      <td>0.0</td>\n",
       "      <td>0.0</td>\n",
       "      <td>0.0</td>\n",
       "      <td>0.0</td>\n",
       "      <td>0.0</td>\n",
       "      <td>0.0</td>\n",
       "      <td>0</td>\n",
       "    </tr>\n",
       "    <tr>\n",
       "      <th>2</th>\n",
       "      <td>4.416666e-07</td>\n",
       "      <td>0.0</td>\n",
       "      <td>0.000003</td>\n",
       "      <td>4.651163e-07</td>\n",
       "      <td>9.153974e-09</td>\n",
       "      <td>0.000242</td>\n",
       "      <td>0.002581</td>\n",
       "      <td>0.00101</td>\n",
       "      <td>0.0</td>\n",
       "      <td>0.000307</td>\n",
       "      <td>...</td>\n",
       "      <td>1.0</td>\n",
       "      <td>0.0</td>\n",
       "      <td>0.0</td>\n",
       "      <td>0.0</td>\n",
       "      <td>0.0</td>\n",
       "      <td>0.0</td>\n",
       "      <td>0.0</td>\n",
       "      <td>0.0</td>\n",
       "      <td>0.0</td>\n",
       "      <td>0</td>\n",
       "    </tr>\n",
       "    <tr>\n",
       "      <th>3</th>\n",
       "      <td>7.499999e-07</td>\n",
       "      <td>0.0</td>\n",
       "      <td>0.000003</td>\n",
       "      <td>4.651163e-07</td>\n",
       "      <td>9.153974e-09</td>\n",
       "      <td>0.000242</td>\n",
       "      <td>0.002581</td>\n",
       "      <td>0.00101</td>\n",
       "      <td>0.0</td>\n",
       "      <td>0.000307</td>\n",
       "      <td>...</td>\n",
       "      <td>1.0</td>\n",
       "      <td>0.0</td>\n",
       "      <td>0.0</td>\n",
       "      <td>0.0</td>\n",
       "      <td>0.0</td>\n",
       "      <td>0.0</td>\n",
       "      <td>0.0</td>\n",
       "      <td>0.0</td>\n",
       "      <td>0.0</td>\n",
       "      <td>0</td>\n",
       "    </tr>\n",
       "    <tr>\n",
       "      <th>4</th>\n",
       "      <td>7.249999e-07</td>\n",
       "      <td>0.0</td>\n",
       "      <td>0.000003</td>\n",
       "      <td>4.651163e-07</td>\n",
       "      <td>9.153974e-09</td>\n",
       "      <td>0.000242</td>\n",
       "      <td>0.002581</td>\n",
       "      <td>0.00101</td>\n",
       "      <td>0.0</td>\n",
       "      <td>0.000307</td>\n",
       "      <td>...</td>\n",
       "      <td>1.0</td>\n",
       "      <td>0.0</td>\n",
       "      <td>0.0</td>\n",
       "      <td>0.0</td>\n",
       "      <td>0.0</td>\n",
       "      <td>0.0</td>\n",
       "      <td>0.0</td>\n",
       "      <td>0.0</td>\n",
       "      <td>0.0</td>\n",
       "      <td>0</td>\n",
       "    </tr>\n",
       "  </tbody>\n",
       "</table>\n",
       "<p>5 rows × 78 columns</p>\n",
       "</div>"
      ],
      "text/plain": [
       "   Flow Duration  Total Fwd Packets  Total Backward Packets  \\\n",
       "0   5.416666e-07                0.0                0.000003   \n",
       "1   5.416666e-07                0.0                0.000003   \n",
       "2   4.416666e-07                0.0                0.000003   \n",
       "3   7.499999e-07                0.0                0.000003   \n",
       "4   7.249999e-07                0.0                0.000003   \n",
       "\n",
       "   Total Length of Fwd Packets  Total Length of Bwd Packets  \\\n",
       "0                 4.651163e-07                 9.153974e-09   \n",
       "1                 4.651163e-07                 9.153974e-09   \n",
       "2                 4.651163e-07                 9.153974e-09   \n",
       "3                 4.651163e-07                 9.153974e-09   \n",
       "4                 4.651163e-07                 9.153974e-09   \n",
       "\n",
       "   Fwd Packet Length Max  Fwd Packet Length Min  Fwd Packet Length Mean  \\\n",
       "0               0.000242               0.002581                 0.00101   \n",
       "1               0.000242               0.002581                 0.00101   \n",
       "2               0.000242               0.002581                 0.00101   \n",
       "3               0.000242               0.002581                 0.00101   \n",
       "4               0.000242               0.002581                 0.00101   \n",
       "\n",
       "   Fwd Packet Length Std  Bwd Packet Length Max  ...  min_seg_size_forward  \\\n",
       "0                    0.0               0.000307  ...                   1.0   \n",
       "1                    0.0               0.000307  ...                   1.0   \n",
       "2                    0.0               0.000307  ...                   1.0   \n",
       "3                    0.0               0.000307  ...                   1.0   \n",
       "4                    0.0               0.000307  ...                   1.0   \n",
       "\n",
       "   Active Mean  Active Std  Active Max  Active Min  Idle Mean  Idle Std  \\\n",
       "0          0.0         0.0         0.0         0.0        0.0       0.0   \n",
       "1          0.0         0.0         0.0         0.0        0.0       0.0   \n",
       "2          0.0         0.0         0.0         0.0        0.0       0.0   \n",
       "3          0.0         0.0         0.0         0.0        0.0       0.0   \n",
       "4          0.0         0.0         0.0         0.0        0.0       0.0   \n",
       "\n",
       "   Idle Max  Idle Min  Label  \n",
       "0       0.0       0.0      0  \n",
       "1       0.0       0.0      0  \n",
       "2       0.0       0.0      0  \n",
       "3       0.0       0.0      0  \n",
       "4       0.0       0.0      0  \n",
       "\n",
       "[5 rows x 78 columns]"
      ]
     },
     "execution_count": 20,
     "metadata": {},
     "output_type": "execute_result"
    }
   ],
   "source": [
    "df.head(5)"
   ]
  },
  {
   "cell_type": "code",
   "execution_count": 19,
   "id": "03a75445",
   "metadata": {},
   "outputs": [
    {
     "data": {
      "text/plain": [
       "0    18225\n",
       "3     3042\n",
       "6     2180\n",
       "1     1966\n",
       "5     1255\n",
       "2       96\n",
       "4       36\n",
       "Name: Label, dtype: int64"
      ]
     },
     "execution_count": 19,
     "metadata": {},
     "output_type": "execute_result"
    }
   ],
   "source": [
    "df['Label'].value_counts()"
   ]
  },
  {
   "cell_type": "markdown",
   "id": "e575452c",
   "metadata": {},
   "source": [
    "    Chaque label correspond à un type d'attaque : \n",
    "        0 => BENIGN\n",
    "        1 => Bot\n",
    "        2 => BruteForce \n",
    "        3 => DoS\n",
    "        4 => Infiltration \n",
    "        5 => PortScan \n",
    "        6 => WebAttack"
   ]
  },
  {
   "cell_type": "markdown",
   "id": "365d0e7a",
   "metadata": {},
   "source": [
    "#### 2. Divide the instances of the dataset into a part for training and a part for testing with a proportion of 80% and 20%."
   ]
  },
  {
   "cell_type": "code",
   "execution_count": 25,
   "id": "0b711e78",
   "metadata": {},
   "outputs": [],
   "source": [
    "X = df.drop(['Label'],axis=1)"
   ]
  },
  {
   "cell_type": "code",
   "execution_count": 27,
   "id": "efe5aa6c",
   "metadata": {},
   "outputs": [
    {
     "name": "stdout",
     "output_type": "stream",
     "text": [
      "(26800, 77)\n"
     ]
    }
   ],
   "source": [
    "print(X.shape)"
   ]
  },
  {
   "cell_type": "code",
   "execution_count": 29,
   "id": "9f9ca555",
   "metadata": {},
   "outputs": [],
   "source": [
    "y = df[\"Label\"]"
   ]
  },
  {
   "cell_type": "code",
   "execution_count": 33,
   "id": "66e5b6f0",
   "metadata": {},
   "outputs": [
    {
     "name": "stdout",
     "output_type": "stream",
     "text": [
      "(26800,)\n"
     ]
    }
   ],
   "source": [
    "print(y.shape)"
   ]
  },
  {
   "cell_type": "code",
   "execution_count": 36,
   "id": "cc0c8b2c",
   "metadata": {},
   "outputs": [],
   "source": [
    "X_train, X_test, y_train, y_test = train_test_split(X,y, train_size=0.8, test_size=0.2, random_state=1)"
   ]
  },
  {
   "cell_type": "code",
   "execution_count": 39,
   "id": "001cea9f",
   "metadata": {},
   "outputs": [
    {
     "name": "stdout",
     "output_type": "stream",
     "text": [
      "les dimensions de X_train :  (21440, 77)\n",
      "les dimensions de X_test :  (5360, 77)\n",
      "les dimensions de y_train :  (21440,)\n",
      "les dimensions de y_test :  (5360,)\n"
     ]
    }
   ],
   "source": [
    "print(\"les dimensions de X_train : \", X_train.shape)\n",
    "print(\"les dimensions de X_test : \",X_test.shape)\n",
    "print(\"les dimensions de y_train : \",y_train.shape)\n",
    "print(\"les dimensions de y_test : \",y_test.shape)"
   ]
  },
  {
   "cell_type": "markdown",
   "id": "be2a55c8",
   "metadata": {},
   "source": [
    "#### 3. Use SMOTE to balance unbalanced classes with a sampling strategy equal to {2:1000, 4:1000}."
   ]
  },
  {
   "cell_type": "code",
   "execution_count": 52,
   "id": "2bec8df6",
   "metadata": {},
   "outputs": [
    {
     "data": {
      "text/plain": [
       "0    14542\n",
       "3     2450\n",
       "6     1761\n",
       "1     1607\n",
       "5      986\n",
       "2       66\n",
       "4       28\n",
       "Name: Label, dtype: int64"
      ]
     },
     "execution_count": 52,
     "metadata": {},
     "output_type": "execute_result"
    }
   ],
   "source": [
    "y_train.value_counts()"
   ]
  },
  {
   "cell_type": "code",
   "execution_count": 58,
   "id": "f8d43e87",
   "metadata": {},
   "outputs": [],
   "source": [
    "from imblearn.over_sampling import SMOTE"
   ]
  },
  {
   "cell_type": "code",
   "execution_count": 60,
   "id": "5771c5e0",
   "metadata": {},
   "outputs": [],
   "source": [
    "smote = SMOTE(n_jobs=-1,sampling_strategy={2:1000, 4:1000})"
   ]
  },
  {
   "cell_type": "code",
   "execution_count": 63,
   "id": "4b8856f9",
   "metadata": {},
   "outputs": [],
   "source": [
    "X_train, y_train = smote.fit_resample(X_train, y_train)"
   ]
  },
  {
   "cell_type": "code",
   "execution_count": 66,
   "id": "d2c77ff5",
   "metadata": {},
   "outputs": [
    {
     "data": {
      "text/plain": [
       "0    14542\n",
       "3     2450\n",
       "6     1761\n",
       "1     1607\n",
       "4     1000\n",
       "2     1000\n",
       "5      986\n",
       "Name: Label, dtype: int64"
      ]
     },
     "execution_count": 66,
     "metadata": {},
     "output_type": "execute_result"
    }
   ],
   "source": [
    "y_train.value_counts()"
   ]
  },
  {
   "cell_type": "markdown",
   "id": "3fce9585",
   "metadata": {},
   "source": [
    "## Part 1: implementation of the first classifier"
   ]
  },
  {
   "cell_type": "markdown",
   "id": "b673589d",
   "metadata": {},
   "source": [
    "#### 4. Briefly describe how the OneVsOne classifier works."
   ]
  },
  {
   "cell_type": "markdown",
   "id": "0022417a",
   "metadata": {},
   "source": [
    "       OneVsOneClassifier builds a classifier per pair of classes. At prediction time, the class that received the most\n",
    "       votes is selected. In case of a tie (between two classes with an equal number of votes), it selects the class with \n",
    "       the highest aggregate classification confidence by summing the confidence levels pairwise classification calculated \n",
    "       by the underlying binary classifiers."
   ]
  },
  {
   "cell_type": "markdown",
   "id": "44a41b43",
   "metadata": {},
   "source": [
    "#### 5.Train the model using the first classifier by passing the training data."
   ]
  },
  {
   "cell_type": "code",
   "execution_count": 71,
   "id": "8df47a33",
   "metadata": {},
   "outputs": [],
   "source": [
    "from sklearn import datasets\n",
    "from sklearn.multiclass import OneVsOneClassifier\n",
    "from sklearn.svm import LinearSVC"
   ]
  },
  {
   "cell_type": "code",
   "execution_count": 126,
   "id": "21d77c4a",
   "metadata": {},
   "outputs": [
    {
     "data": {
      "text/plain": [
       "OneVsOneClassifier(estimator=LinearSVC(random_state=0))"
      ]
     },
     "execution_count": 126,
     "metadata": {},
     "output_type": "execute_result"
    }
   ],
   "source": [
    "OvsO = OneVsOneClassifier(LinearSVC(random_state=0))\n",
    "OvsO.fit(X_train, y_train)"
   ]
  },
  {
   "cell_type": "markdown",
   "id": "5222d021",
   "metadata": {},
   "source": [
    "#### 6. Make the prediction (test) using the first classifier by passing the test data."
   ]
  },
  {
   "cell_type": "code",
   "execution_count": 129,
   "id": "342f0361",
   "metadata": {},
   "outputs": [
    {
     "data": {
      "text/plain": [
       "array([0, 6, 0, ..., 0, 1, 0], dtype=int64)"
      ]
     },
     "execution_count": 129,
     "metadata": {},
     "output_type": "execute_result"
    }
   ],
   "source": [
    "y_pred1 = OvsO.predict(X_test)\n",
    "y_pred1"
   ]
  },
  {
   "cell_type": "markdown",
   "id": "7f6d0e68",
   "metadata": {},
   "source": [
    "#### 7. Make the prediction (test) using the first classifier by passing the test data."
   ]
  },
  {
   "cell_type": "code",
   "execution_count": 130,
   "id": "33b5b92e",
   "metadata": {},
   "outputs": [
    {
     "name": "stdout",
     "output_type": "stream",
     "text": [
      "CPU times: total: 2.53 s\n",
      "Wall time: 2.54 s\n"
     ]
    }
   ],
   "source": [
    "%%time\n",
    "OvsO.fit(X_train, y_train)\n",
    "y_pred1 = OvsO.predict(X_test)"
   ]
  },
  {
   "cell_type": "markdown",
   "id": "2af29c59",
   "metadata": {},
   "source": [
    "#### 8. Give the statistics given by the classifier (accuracy, precision, recall and f1-score) and interpret the results."
   ]
  },
  {
   "cell_type": "code",
   "execution_count": 131,
   "id": "4490515f",
   "metadata": {},
   "outputs": [
    {
     "name": "stdout",
     "output_type": "stream",
     "text": [
      "              precision    recall  f1-score   support\n",
      "\n",
      "           0       0.90      0.96      0.93      3683\n",
      "           1       0.61      0.61      0.61       359\n",
      "           2       0.73      0.53      0.62        30\n",
      "           3       0.95      0.67      0.79       592\n",
      "           4       0.50      0.38      0.43         8\n",
      "           5       0.77      0.68      0.72       269\n",
      "           6       0.93      0.87      0.90       419\n",
      "\n",
      "    accuracy                           0.88      5360\n",
      "   macro avg       0.77      0.67      0.71      5360\n",
      "weighted avg       0.88      0.88      0.87      5360\n",
      "\n"
     ]
    }
   ],
   "source": [
    "print(classification_report(y_test,y_pred1))"
   ]
  },
  {
   "cell_type": "markdown",
   "id": "80a0cd49",
   "metadata": {},
   "source": [
    "#### 9. Give the detailed precision for each attack class (Detailed Accuracy By Class, precision, recall and f1-score) and interpret the results."
   ]
  },
  {
   "cell_type": "code",
   "execution_count": 132,
   "id": "e04ca730",
   "metadata": {},
   "outputs": [
    {
     "name": "stdout",
     "output_type": "stream",
     "text": [
      "Accuracy of OneVsOne :  0.8779850746268657\n",
      "Precision of OneVsOne :  [0.89737713 0.60833333 0.72727273 0.95432692 0.5        0.77446809\n",
      " 0.92639594]\n",
      "Recall of OneVsOne :  [0.95682867 0.61002786 0.53333333 0.67060811 0.375      0.67657993\n",
      " 0.87112172]\n",
      "F1 score of OneVsOne :  [0.9261498  0.60917942 0.61538462 0.78769841 0.42857143 0.72222222\n",
      " 0.89790898]\n"
     ]
    }
   ],
   "source": [
    "print(\"Accuracy of OneVsOne : \", accuracy_score(y_test, y_pred1))\n",
    "print(\"Precision of OneVsOne : \", precision_score(y_test, y_pred1, average=None))\n",
    "print(\"Recall of OneVsOne : \", recall_score(y_test, y_pred1, average=None))\n",
    "print(\"F1 score of OneVsOne : \", f1_score(y_test, y_pred1, average=None))"
   ]
  },
  {
   "cell_type": "markdown",
   "id": "8b3666cb",
   "metadata": {},
   "source": [
    "#### 10. Give and interpret the results of the confusion matrix given by the classifier (confusion matrix)."
   ]
  },
  {
   "cell_type": "code",
   "execution_count": 143,
   "id": "fec5e0ac",
   "metadata": {},
   "outputs": [
    {
     "data": {
      "image/png": "[encoded data removed]",
      "text/plain": [
       "<Figure size 360x360 with 2 Axes>"
      ]
     },
     "metadata": {
      "needs_background": "light"
     },
     "output_type": "display_data"
    }
   ],
   "source": [
    "Conf1= confusion_matrix(y_test,y_pred1)\n",
    "f, ax = plt.subplots(figsize=(5,5))\n",
    "sns.heatmap(Conf1, annot=True, linewidth=0.5, linecolor=\"red\", fmt=\".0f\", ax=ax)\n",
    "plt.xlabel(\"y_pred\")\n",
    "plt.ylabel(\"y_true\")\n",
    "plt.show()"
   ]
  },
  {
   "cell_type": "markdown",
   "id": "62a9e85b",
   "metadata": {},
   "source": [
    "## Part 2: implementation of the second classifier: Extra-trees Classifier:"
   ]
  },
  {
   "cell_type": "markdown",
   "id": "80d99bb3",
   "metadata": {},
   "source": [
    "#### 11.Briefly describe how classifier 2 works: Extra-trees Classifier : "
   ]
  },
  {
   "cell_type": "markdown",
   "id": "2250f899",
   "metadata": {},
   "source": [
    "    Extra-trees Classifier differs from traditional decision trees in the way they are constructed. When searching for the best split to separate a node's samples into two groups, random splits are drawn for each of the randomly selected max_features and the best split among these is chosen. When max_features is 1, this amounts to building a completely random decision tree."
   ]
  },
  {
   "cell_type": "markdown",
   "id": "9bf59970",
   "metadata": {},
   "source": [
    "#### 12. Train the model using the second classifier by passing the training data."
   ]
  },
  {
   "cell_type": "code",
   "execution_count": 127,
   "id": "87f6a7b8",
   "metadata": {},
   "outputs": [
    {
     "data": {
      "text/plain": [
       "ExtraTreesClassifier()"
      ]
     },
     "execution_count": 127,
     "metadata": {},
     "output_type": "execute_result"
    }
   ],
   "source": [
    "from sklearn.ensemble import ExtraTreesClassifier"
   ]
  },
  {
   "cell_type": "code",
   "execution_count": 128,
   "id": "f659db85",
   "metadata": {},
   "outputs": [
    {
     "data": {
      "text/plain": [
       "ExtraTreesClassifier()"
      ]
     },
     "execution_count": 128,
     "metadata": {},
     "output_type": "execute_result"
    }
   ],
   "source": [
    "extra_tree_forest = ExtraTreesClassifier()\n",
    "extra_tree_forest.fit(X_train, y_train)"
   ]
  },
  {
   "cell_type": "markdown",
   "id": "5c6c9a15",
   "metadata": {},
   "source": [
    "#### 13. Make the prediction using the second classifier by passing the test data."
   ]
  },
  {
   "cell_type": "code",
   "execution_count": 135,
   "id": "8831710a",
   "metadata": {},
   "outputs": [
    {
     "data": {
      "text/plain": [
       "array([6, 6, 0, ..., 3, 1, 0], dtype=int64)"
      ]
     },
     "execution_count": 135,
     "metadata": {},
     "output_type": "execute_result"
    }
   ],
   "source": [
    "y_pred2 = extra_tree_forest.predict(X_test)\n",
    "y_pred2"
   ]
  },
  {
   "cell_type": "markdown",
   "id": "1b33cf65",
   "metadata": {},
   "source": [
    "#### 14. Give the time taken by the second classifier to build the model."
   ]
  },
  {
   "cell_type": "code",
   "execution_count": 137,
   "id": "5a5aae2a",
   "metadata": {},
   "outputs": [
    {
     "name": "stdout",
     "output_type": "stream",
     "text": [
      "CPU times: total: 1.97 s\n",
      "Wall time: 1.97 s\n"
     ]
    }
   ],
   "source": [
    "%%time\n",
    "extra_tree_forest.fit(X_train, y_train)\n",
    "y_pred2 = extra_tree_forest.predict(X_test)"
   ]
  },
  {
   "cell_type": "markdown",
   "id": "e950e52f",
   "metadata": {},
   "source": [
    "#### 15.Give the statistics given by the classifier (accuracy, precision, recall and f1-score) and interpret the results."
   ]
  },
  {
   "cell_type": "code",
   "execution_count": 138,
   "id": "f4c7b005",
   "metadata": {},
   "outputs": [
    {
     "name": "stdout",
     "output_type": "stream",
     "text": [
      "              precision    recall  f1-score   support\n",
      "\n",
      "           0       0.99      0.99      0.99      3683\n",
      "           1       0.96      0.97      0.97       359\n",
      "           2       0.97      0.97      0.97        30\n",
      "           3       0.98      0.99      0.99       592\n",
      "           4       1.00      0.38      0.55         8\n",
      "           5       1.00      0.97      0.98       269\n",
      "           6       0.99      0.98      0.98       419\n",
      "\n",
      "    accuracy                           0.99      5360\n",
      "   macro avg       0.98      0.89      0.92      5360\n",
      "weighted avg       0.99      0.99      0.99      5360\n",
      "\n"
     ]
    }
   ],
   "source": [
    "print(classification_report(y_test,y_pred2))"
   ]
  },
  {
   "cell_type": "markdown",
   "id": "0ff6ac17",
   "metadata": {},
   "source": [
    "#### 16. Give the detailed precision for each attack class (Detailed Accuracy By Class, precision, recall and f1-score) and interpret the results."
   ]
  },
  {
   "cell_type": "code",
   "execution_count": 139,
   "id": "e8cae2e3",
   "metadata": {},
   "outputs": [
    {
     "name": "stdout",
     "output_type": "stream",
     "text": [
      "Accuracy of Extra-trees Classifier :  0.9871268656716418\n",
      "Precision of Extra-trees Classifier :  [0.98917163 0.96143251 0.96666667 0.98489933 1.         0.99616858\n",
      " 0.99031477]\n",
      "Recall of Extra-trees Classifier :  [0.99212598 0.97214485 0.96666667 0.99155405 0.375      0.96654275\n",
      " 0.97613365]\n",
      "F1 score of Extra-trees Classifier :  [0.9906466  0.966759   0.96666667 0.98821549 0.54545455 0.98113208\n",
      " 0.98317308]\n"
     ]
    }
   ],
   "source": [
    "print(\"Accuracy of Extra-trees Classifier : \", accuracy_score(y_test, y_pred2))\n",
    "print(\"Precision of Extra-trees Classifier : \", precision_score(y_test, y_pred2, average=None))\n",
    "print(\"Recall of Extra-trees Classifier : \", recall_score(y_test, y_pred2, average=None))\n",
    "print(\"F1 score of Extra-trees Classifier : \", f1_score(y_test, y_pred2, average=None))"
   ]
  },
  {
   "cell_type": "markdown",
   "id": "f2b96169",
   "metadata": {},
   "source": [
    "#### 17. Give and interpret the results of the confusion matrix given by the classifier (confusion matrix)."
   ]
  },
  {
   "cell_type": "code",
   "execution_count": 142,
   "id": "528d61a6",
   "metadata": {},
   "outputs": [
    {
     "data": {
      "image/png": "[encoded data removed]",
      "text/plain": [
       "<Figure size 360x360 with 2 Axes>"
      ]
     },
     "metadata": {
      "needs_background": "light"
     },
     "output_type": "display_data"
    }
   ],
   "source": [
    "Conf2= confusion_matrix(y_test,y_pred2)\n",
    "f, ax = plt.subplots(figsize=(5,5))\n",
    "sns.heatmap(Conf2, annot=True, linewidth=0.5, linecolor=\"red\", fmt=\".0f\", ax=ax)\n",
    "plt.xlabel(\"y_pred\")\n",
    "plt.ylabel(\"y_true\")\n",
    "plt.show()"
   ]
  },
  {
   "cell_type": "markdown",
   "id": "782a8491",
   "metadata": {},
   "source": [
    "## Part 3: comparison of results"
   ]
  },
  {
   "cell_type": "markdown",
   "id": "30e6f684",
   "metadata": {},
   "source": [
    "#### 18. Compare the results found by the two classifiers in the form of a table? What can we conclude."
   ]
  },
  {
   "cell_type": "code",
   "execution_count": 174,
   "id": "2718855f",
   "metadata": {},
   "outputs": [],
   "source": [
    "OneVsOne_Correct_Predct = []\n",
    "Extra_Tree_Correct_Predct = []\n",
    "for i in range(7) : \n",
    "    OneVsOne_Correct_Predct.append(Conf1[i,i])\n",
    "    Extra_Tree_Correct_Predct.append(Conf2[i,i])   "
   ]
  },
  {
   "cell_type": "code",
   "execution_count": 175,
   "id": "58f8c2c3",
   "metadata": {},
   "outputs": [
    {
     "name": "stdout",
     "output_type": "stream",
     "text": [
      "Le nombre de classe  0  prédite correctement par OneVsOne :  3524\n",
      "Le nombre de classe  0  prédite correctement par Extra_Tree :  3654\n",
      "\n",
      "Le nombre de classe  1  prédite correctement par OneVsOne :  219\n",
      "Le nombre de classe  1  prédite correctement par Extra_Tree :  349\n",
      "\n",
      "Le nombre de classe  2  prédite correctement par OneVsOne :  16\n",
      "Le nombre de classe  2  prédite correctement par Extra_Tree :  29\n",
      "\n",
      "Le nombre de classe  3  prédite correctement par OneVsOne :  397\n",
      "Le nombre de classe  3  prédite correctement par Extra_Tree :  587\n",
      "\n",
      "Le nombre de classe  4  prédite correctement par OneVsOne :  3\n",
      "Le nombre de classe  4  prédite correctement par Extra_Tree :  3\n",
      "\n",
      "Le nombre de classe  5  prédite correctement par OneVsOne :  182\n",
      "Le nombre de classe  5  prédite correctement par Extra_Tree :  260\n",
      "\n",
      "Le nombre de classe  6  prédite correctement par OneVsOne :  365\n",
      "Le nombre de classe  6  prédite correctement par Extra_Tree :  409\n",
      "\n"
     ]
    }
   ],
   "source": [
    "for i in range (7) : \n",
    "    print(\"Le nombre de classe \",i,\" prédite correctement par OneVsOne : \",OneVsOne_Correct_Predct[i])\n",
    "    print(\"Le nombre de classe \",i,\" prédite correctement par Extra_Tree : \",Extra_Tree_Correct_Predct[i])\n",
    "    print()"
   ]
  },
  {
   "cell_type": "code",
   "execution_count": 178,
   "id": "b16d2208",
   "metadata": {},
   "outputs": [
    {
     "name": "stdout",
     "output_type": "stream",
     "text": [
      "Le nombre totale de classe prédite correctement par OneVsOne Classifier :  4706\n",
      "Le nombre totale de classe prédite correctement par Extra_Tree_Classifier :  5291\n"
     ]
    }
   ],
   "source": [
    "OneVsOne_Correct_Predct_sum=0\n",
    "Extra_Tree_Correct_Predct_sum=0\n",
    "for i in range (7) : \n",
    "    OneVsOne_Correct_Predct_sum = OneVsOne_Correct_Predct_sum + OneVsOne_Correct_Predct[i]\n",
    "    Extra_Tree_Correct_Predct_sum = Extra_Tree_Correct_Predct_sum + Extra_Tree_Correct_Predct[i]\n",
    "\n",
    "print(\"Le nombre totale de classe prédite correctement par OneVsOne Classifier : \",OneVsOne_Correct_Predct_sum)\n",
    "print(\"Le nombre totale de classe prédite correctement par Extra_Tree_Classifier : \",Extra_Tree_Correct_Predct_sum)"
   ]
  },
  {
   "cell_type": "markdown",
   "id": "1987e951",
   "metadata": {},
   "source": [
    "    We can conclude that for all classes, the Extre_Tree_Classifier gave better results than the OneVsOne Classify."
   ]
  }
 ],
 "metadata": {
  "kernelspec": {
   "display_name": "Python 3 (ipykernel)",
   "language": "python",
   "name": "python3"
  },
  "language_info": {
   "codemirror_mode": {
    "name": "ipython",
    "version": 3
   },
   "file_extension": ".py",
   "mimetype": "text/x-python",
   "name": "python",
   "nbconvert_exporter": "python",
   "pygments_lexer": "ipython3",
   "version": "3.9.12"
  }
 },
 "nbformat": 4,
 "nbformat_minor": 5
}
